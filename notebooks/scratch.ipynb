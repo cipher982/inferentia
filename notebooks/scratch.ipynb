{
 "cells": [
  {
   "cell_type": "code",
   "execution_count": null,
   "metadata": {},
   "outputs": [],
   "source": [
    "import os\n",
    "import time\n",
    "\n",
    "os.environ[\"NEURON_RT_NUM_CORES\"] = \"2\"\n",
    "\n",
    "from dotenv import load_dotenv\n",
    "from optimum.neuron import NeuronModelForCausalLM\n",
    "from optimum.neuron import pipeline\n",
    "from transformers import AutoTokenizer\n",
    "\n",
    "load_dotenv()"
   ]
  },
  {
   "cell_type": "markdown",
   "metadata": {},
   "source": [
    "## Load, Compile, Save\n",
    "\n",
    "Load a model from the Hugging Face Hub, compile it into Neuron format, and save the compiled model and tokenizer to a local directory."
   ]
  },
  {
   "cell_type": "code",
   "execution_count": null,
   "metadata": {},
   "outputs": [],
   "source": [
    "# model id you want to compile\n",
    "vanilla_model_id = \"meta-llama/Llama-2-7b-chat-hf\"\n",
    "\n",
    "# configs for compiling model\n",
    "compiler_args = {\"num_cores\": 2, \"auto_cast_type\": \"fp16\"}\n",
    "input_shapes = {\n",
    "  \"sequence_length\": 2048, # max length to generate\n",
    "  \"batch_size\": 1 # batch size for the model\n",
    "  }\n",
    "\n",
    "llm = NeuronModelForCausalLM.from_pretrained(vanilla_model_id, export=True, **input_shapes, **compiler_args)\n",
    "tokenizer = AutoTokenizer.from_pretrained(vanilla_model_id)"
   ]
  },
  {
   "cell_type": "code",
   "execution_count": null,
   "metadata": {},
   "outputs": [],
   "source": [
    "# Save locally or upload to the HuggingFace Hub\n",
    "out_dir = \"mnt/store/\"\n",
    "save_directory = out_dir + \"llama_neuron\"\n",
    "llm.save_pretrained(save_directory)\n",
    "tokenizer.save_pretrained(save_directory)"
   ]
  },
  {
   "cell_type": "markdown",
   "metadata": {},
   "source": [
    "## Run Inference\n",
    "\n",
    "Now we can re-load the converted model from the local directory that we saved this in above, and run inference on the provided messages using the `pipeline` function from the `optimum.neuron` library."
   ]
  },
  {
   "cell_type": "code",
   "execution_count": null,
   "metadata": {},
   "outputs": [],
   "source": [
    "# Load with the HuggingFace Pipeline API\n",
    "pipe = pipeline(\"text-generation\", save_directory)"
   ]
  },
  {
   "cell_type": "code",
   "execution_count": null,
   "metadata": {},
   "outputs": [],
   "source": [
    "# Create 'messages' and convert into a string the model can understand\n",
    "messages = [{\"role\": \"user\", \"content\": \"Tell me a long story about WW2\"}]\n",
    "inputs = pipe.tokenizer.apply_chat_template(messages, add_generation_prompt=True, tokenize=False)\n",
    "\n",
    "# Run inference\n",
    "time_0 = time.time()\n",
    "outputs = pipe(inputs)\n",
    "time_1 = time.time()\n",
    "out_str = outputs[0][\"generated_text\"][len(inputs):].strip()\n",
    "tokens = pipe.tokenizer.encode(out_str)\n",
    "\n",
    "print(out_str[:50], \"...\", out_str[-50:])\n",
    "print(f\"Total tokens: {len(tokens)}\")\n",
    "print(f\"Tokens per second: {len(tokens)/(time_1-time_0)}:.2f\")"
   ]
  }
 ],
 "metadata": {
  "kernelspec": {
   "display_name": "inf",
   "language": "python",
   "name": "python3"
  },
  "language_info": {
   "codemirror_mode": {
    "name": "ipython",
    "version": 3
   },
   "file_extension": ".py",
   "mimetype": "text/x-python",
   "name": "python",
   "nbconvert_exporter": "python",
   "pygments_lexer": "ipython3",
   "version": "3.10.14"
  }
 },
 "nbformat": 4,
 "nbformat_minor": 2
}
