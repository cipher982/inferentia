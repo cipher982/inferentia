{
 "cells": [
  {
   "cell_type": "code",
   "execution_count": null,
   "metadata": {},
   "outputs": [],
   "source": [
    "import os\n",
    "\n",
    "os.environ[\"NEURON_RT_NUM_CORES\"] = \"2\"\n",
    "\n",
    "from dotenv import load_dotenv\n",
    "from optimum.neuron import pipeline\n",
    "\n",
    "load_dotenv()"
   ]
  },
  {
   "cell_type": "code",
   "execution_count": null,
   "metadata": {},
   "outputs": [],
   "source": [
    "model_fp = \"/mnt/store/llama-3-8b-bf16\"\n",
    "pipe = pipeline(\"text-generation\", model_fp)"
   ]
  },
  {
   "cell_type": "code",
   "execution_count": null,
   "metadata": {},
   "outputs": [],
   "source": [
    "input_str = \"The capital of France is\"\n",
    "\n",
    "outputs = pipe(\n",
    "    input_str,\n",
    "    max_new_tokens=128,\n",
    "    # eos_token_id=pipe.tokenizer.convert_tokens_to_ids(\"\\\\n\"),\n",
    "    eos_token_id=pipe.tokenizer.convert_tokens_to_ids(\".\"),\n",
    "    temperature=0.01,\n",
    ")\n",
    "out_str = outputs[0][\"generated_text\"][len(input_str):].strip()\n",
    "out_str"
   ]
  }
 ],
 "metadata": {
  "kernelspec": {
   "display_name": "aws_neuronx_venv_transformers_neuronx",
   "language": "python",
   "name": "python3"
  },
  "language_info": {
   "codemirror_mode": {
    "name": "ipython",
    "version": 3
   },
   "file_extension": ".py",
   "mimetype": "text/x-python",
   "name": "python",
   "nbconvert_exporter": "python",
   "pygments_lexer": "ipython3",
   "version": "3.10.12"
  }
 },
 "nbformat": 4,
 "nbformat_minor": 2
}
