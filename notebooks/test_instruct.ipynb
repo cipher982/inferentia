{
 "cells": [
  {
   "cell_type": "code",
   "execution_count": null,
   "metadata": {},
   "outputs": [],
   "source": [
    "import os\n",
    "\n",
    "os.environ[\"NEURON_RT_NUM_CORES\"] = \"2\"\n",
    "\n",
    "from dotenv import load_dotenv\n",
    "from optimum.neuron import pipeline\n",
    "\n",
    "load_dotenv()"
   ]
  },
  {
   "cell_type": "code",
   "execution_count": null,
   "metadata": {},
   "outputs": [],
   "source": [
    "# Load with the HuggingFace Pipeline API\n",
    "model_fp = \"/mnt/store/llama-3-8b-instruct-bf16\"\n",
    "pipe = pipeline(\"text-generation\", model_fp)"
   ]
  },
  {
   "cell_type": "code",
   "execution_count": null,
   "metadata": {},
   "outputs": [],
   "source": [
    "messages = [\n",
    "    {\"role\": \"system\", \"content\": \"You are a helpful assistant.\"},\n",
    "    {\"role\": \"user\", \"content\": \"The capital of France is\"},\n",
    "]\n",
    "\n",
    "inputs = pipe.tokenizer.apply_chat_template(\n",
    "    messages, \n",
    "    add_generation_prompt=True, \n",
    "    tokenize=False\n",
    ")\n",
    "inputs"
   ]
  },
  {
   "cell_type": "code",
   "execution_count": null,
   "metadata": {},
   "outputs": [],
   "source": [
    "terminators = [\n",
    "    pipe.tokenizer.eos_token_id,  # This is the end-of-text token ID.\n",
    "    pipe.tokenizer.convert_tokens_to_ids(\"<|eot_id|>\")  # This converts the end-of-turn token to its ID.\n",
    "]\n",
    "\n",
    "outputs = pipe(\n",
    "    inputs,\n",
    "    max_new_tokens=128,\n",
    "    eos_token_id=terminators[1],\n",
    "    temperature=0.01,\n",
    ")\n",
    "out_str = outputs[0][\"generated_text\"][len(inputs):].strip()\n",
    "out_str"
   ]
  },
  {
   "cell_type": "code",
   "execution_count": null,
   "metadata": {},
   "outputs": [],
   "source": []
  }
 ],
 "metadata": {
  "kernelspec": {
   "display_name": "aws_neuronx_venv_transformers_neuronx",
   "language": "python",
   "name": "python3"
  },
  "language_info": {
   "codemirror_mode": {
    "name": "ipython",
    "version": 3
   },
   "file_extension": ".py",
   "mimetype": "text/x-python",
   "name": "python",
   "nbconvert_exporter": "python",
   "pygments_lexer": "ipython3",
   "version": "3.10.12"
  }
 },
 "nbformat": 4,
 "nbformat_minor": 2
}
